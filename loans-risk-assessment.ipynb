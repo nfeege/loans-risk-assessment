{
 "cells": [
  {
   "cell_type": "markdown",
   "metadata": {},
   "source": [
    "# Risk Assessment for Lending Club Loans\n",
    "\n",
    "This is the analysis notebook for this project.\n",
    "\n",
    "See the README.md file for background information about this project and the details of the used data.\n",
    "\n",
    "**Objective:** Predict whether a requested loan will be paid back in full or not (i.e. will be charged off) to help investors choose where to invest.\n",
    "\n",
    "Loading the libraries used by this notebook:"
   ]
  },
  {
   "cell_type": "code",
   "execution_count": 1,
   "metadata": {},
   "outputs": [
    {
     "name": "stderr",
     "output_type": "stream",
     "text": [
      "/usr/local/lib/python3.6/site-packages/sklearn/cross_validation.py:41: DeprecationWarning: This module was deprecated in version 0.18 in favor of the model_selection module into which all the refactored classes and functions are moved. Also note that the interface of the new CV iterators are different from that of this module. This module will be removed in 0.20.\n",
      "  \"This module will be removed in 0.20.\", DeprecationWarning)\n"
     ]
    }
   ],
   "source": [
    "# load libraries\n",
    "import pandas as pd\n",
    "import numpy\n",
    "\n",
    "from sklearn.linear_model import LogisticRegression\n",
    "from sklearn.ensemble import RandomForestClassifier\n",
    "from sklearn.cross_validation import cross_val_predict, KFold"
   ]
  },
  {
   "cell_type": "markdown",
   "metadata": {},
   "source": [
    "# Reading and Cleaning the Data"
   ]
  },
  {
   "cell_type": "markdown",
   "metadata": {},
   "source": [
    "Load data set and do some initial cleanup."
   ]
  },
  {
   "cell_type": "code",
   "execution_count": 2,
   "metadata": {},
   "outputs": [
    {
     "name": "stderr",
     "output_type": "stream",
     "text": [
      "/usr/local/lib/python3.6/site-packages/IPython/core/interactiveshell.py:2728: DtypeWarning: Columns (0,47) have mixed types. Specify dtype option on import or set low_memory=False.\n",
      "  interactivity=interactivity, compiler=compiler, result=result)\n"
     ]
    }
   ],
   "source": [
    "# clean up downloaded data\n",
    "#\n",
    "# read data and skip first row because it includes no useful information\n",
    "loans_2007 = pd.read_csv('data/LoanStats3a_2007_2011.csv', skiprows=1)\n",
    "\n",
    "# drop columns with more than half entries NAN\n",
    "half_count = len(loans_2007) / 2\n",
    "loans_2007 = loans_2007.dropna(thresh=half_count, axis=1)\n",
    "\n",
    "# drop columns 'desc' (text description of loan) and 'url' (link to loan, requires investor account)\n",
    "if 'desc' in loans_2007.columns:\n",
    "    loans_2007 = loans_2007.drop(['desc'],axis=1)\n",
    "if 'url' in loans_2007.columns:\n",
    "    loans_2007 = loans_2007.drop(['url'],axis=1)"
   ]
  },
  {
   "cell_type": "markdown",
   "metadata": {},
   "source": [
    "Drop columns which contain information that is \n",
    "* 'from the future' on how the loan was repaid (or not),\n",
    "* redundant (e.g. first 3 digits of ZIP code yield same information as 'state' column),\n",
    "* not relevant to credit risk assessment (e.g. 'member_id'),\n",
    "* tricky to extract meaningful information from,\n",
    "* NAN for a large number of rows, or\n",
    "* identical in all rows."
   ]
  },
  {
   "cell_type": "code",
   "execution_count": 3,
   "metadata": {},
   "outputs": [],
   "source": [
    "drop_columns = [\n",
    "#    'id',\n",
    "#    'member_id',\n",
    "    'funded_amnt',\n",
    "    'funded_amnt_inv',\n",
    "    'grade',\n",
    "    'sub_grade',\n",
    "    'emp_title',\n",
    "    'issue_d',\n",
    "    'zip_code',\n",
    "    'out_prncp',\n",
    "    'out_prncp_inv',\n",
    "    'total_pymnt',\n",
    "    'total_pymnt_inv',\n",
    "    'total_rec_prncp',\n",
    "    'total_rec_int',\n",
    "    'total_rec_late_fee',\n",
    "    'recoveries',\n",
    "    'collection_recovery_fee',\n",
    "    'last_pymnt_d',\n",
    "    'last_pymnt_amnt',\n",
    "    'pub_rec_bankruptcies',\n",
    "    'last_credit_pull_d',\n",
    "    'addr_state',\n",
    "    'title',\n",
    "    'earliest_cr_line'\n",
    "]\n",
    "\n",
    "loans_2007.drop( drop_columns, axis=1, inplace=True )\n",
    "\n",
    "# find and remove single-value columns ##\n",
    "drop_columns_single = []\n",
    "\n",
    "for col in loans_2007.columns:\n",
    "    unique_non_null = loans_2007[col].dropna().unique()\n",
    "    # print(col,'-->',len(unique_non_null))\n",
    "    if ( len(unique_non_null) == 1 ):\n",
    "        drop_columns.append( col )\n",
    "        \n",
    "loans_2007.drop( drop_columns_single, axis=1, inplace=True )"
   ]
  },
  {
   "cell_type": "markdown",
   "metadata": {},
   "source": [
    "Remove all rows with NAN entries. Print number of NAN in each column to confirm."
   ]
  },
  {
   "cell_type": "code",
   "execution_count": 4,
   "metadata": {},
   "outputs": [
    {
     "name": "stdout",
     "output_type": "stream",
     "text": [
      "loan_amnt                     0\n",
      "term                          0\n",
      "int_rate                      0\n",
      "installment                   0\n",
      "emp_length                    0\n",
      "home_ownership                0\n",
      "annual_inc                    0\n",
      "verification_status           0\n",
      "loan_status                   0\n",
      "pymnt_plan                    0\n",
      "purpose                       0\n",
      "dti                           0\n",
      "delinq_2yrs                   0\n",
      "inq_last_6mths                0\n",
      "open_acc                      0\n",
      "pub_rec                       0\n",
      "revol_bal                     0\n",
      "revol_util                    0\n",
      "total_acc                     0\n",
      "initial_list_status           0\n",
      "collections_12_mths_ex_med    0\n",
      "policy_code                   0\n",
      "application_type              0\n",
      "acc_now_delinq                0\n",
      "chargeoff_within_12_mths      0\n",
      "delinq_amnt                   0\n",
      "tax_liens                     0\n",
      "hardship_flag                 0\n",
      "disbursement_method           0\n",
      "debt_settlement_flag          0\n",
      "dtype: int64\n"
     ]
    }
   ],
   "source": [
    "# drop rows with NAN\n",
    "loans_2007.dropna(inplace=True)\n",
    "\n",
    "# print number of NAN values in each column\n",
    "print( loans_2007.isnull().sum() )"
   ]
  },
  {
   "cell_type": "markdown",
   "metadata": {},
   "source": [
    "The column 'loan_status' is the target column, i.e. this is the loan status we want to predict. Look at the values and counts in this column:"
   ]
  },
  {
   "cell_type": "code",
   "execution_count": 5,
   "metadata": {},
   "outputs": [
    {
     "name": "stdout",
     "output_type": "stream",
     "text": [
      "Fully Paid                                             33186\n",
      "Charged Off                                             5419\n",
      "Does not meet the credit policy. Status:Fully Paid      1895\n",
      "Does not meet the credit policy. Status:Charged Off      723\n",
      "Name: loan_status, dtype: int64\n"
     ]
    }
   ],
   "source": [
    "print( loans_2007['loan_status'].value_counts() )"
   ]
  },
  {
   "cell_type": "markdown",
   "metadata": {},
   "source": [
    "Keep only two loan status cases- 'Fully Paid' and 'Charged Off'. Replace the status string with '1' (= \"Fully Paid\") and '0' (= \"Charged Off\"). Finally, drop columns that have the same value in all rows."
   ]
  },
  {
   "cell_type": "code",
   "execution_count": 6,
   "metadata": {},
   "outputs": [
    {
     "name": "stdout",
     "output_type": "stream",
     "text": [
      "1    33186\n",
      "0     5419\n",
      "Name: loan_status, dtype: int64\n"
     ]
    }
   ],
   "source": [
    "# keep only two status cases\n",
    "loans_2007 = loans_2007[\n",
    "    (loans_2007['loan_status'] == 'Fully Paid') |\n",
    "    (loans_2007['loan_status'] == 'Charged Off')\n",
    "]\n",
    "\n",
    "# use dict to replace status with 1/0 identifier\n",
    "mapping_dict = {\n",
    "    \"loan_status\": {\n",
    "        \"Fully Paid\": 1,\n",
    "        \"Charged Off\": 0\n",
    "    }\n",
    "}\n",
    "loans_2007 = loans_2007.replace(mapping_dict)\n",
    "\n",
    "# print target column value counts\n",
    "print( loans_2007['loan_status'].value_counts() )\n",
    "\n",
    "# save cleaned-up data as .csv file for later use\n",
    "loans_2007.to_csv('data/filtered_loans_2007.csv', index=False)"
   ]
  },
  {
   "cell_type": "markdown",
   "metadata": {},
   "source": [
    "# Selecting Features For Risk Analysis"
   ]
  },
  {
   "cell_type": "markdown",
   "metadata": {},
   "source": [
    "Read data clened up in __Part 1__ into dataframe."
   ]
  },
  {
   "cell_type": "code",
   "execution_count": 7,
   "metadata": {},
   "outputs": [
    {
     "name": "stdout",
     "output_type": "stream",
     "text": [
      "float64    16\n",
      "object     13\n",
      "int64       1\n",
      "dtype: int64\n"
     ]
    }
   ],
   "source": [
    "# read cleaned-up data set into dataframe\n",
    "loans = pd.read_csv('data/filtered_loans_2007.csv')\n",
    "\n",
    "print( loans.dtypes.value_counts() )"
   ]
  },
  {
   "cell_type": "code",
   "execution_count": 8,
   "metadata": {},
   "outputs": [
    {
     "name": "stdout",
     "output_type": "stream",
     "text": [
      "         term int_rate emp_length home_ownership verification_status  \\\n",
      "0   36 months   10.65%  10+ years           RENT            Verified   \n",
      "\n",
      "  pymnt_plan      purpose revol_util initial_list_status application_type  \\\n",
      "0          n  credit_card      83.7%                   f       Individual   \n",
      "\n",
      "  hardship_flag disbursement_method debt_settlement_flag  \n",
      "0             N                Cash                    N  \n"
     ]
    }
   ],
   "source": [
    "# look at text columns (data type 'object')\n",
    "object_columns_df = loans.select_dtypes( include=['object'] )\n",
    "print( object_columns_df.head(1) )"
   ]
  },
  {
   "cell_type": "code",
   "execution_count": 9,
   "metadata": {},
   "outputs": [
    {
     "name": "stdout",
     "output_type": "stream",
     "text": [
      "---->home_ownership\n",
      "RENT        18456\n",
      "MORTGAGE    17218\n",
      "OWN          2834\n",
      "OTHER          96\n",
      "NONE            1\n",
      "Name: home_ownership, dtype: int64\n",
      "---->verification_status\n",
      "Not Verified       16418\n",
      "Verified           12379\n",
      "Source Verified     9808\n",
      "Name: verification_status, dtype: int64\n",
      "---->emp_length\n",
      "10+ years    8895\n",
      "< 1 year     4560\n",
      "2 years      4382\n",
      "3 years      4090\n",
      "4 years      3433\n",
      "5 years      3280\n",
      "1 year       3231\n",
      "6 years      2226\n",
      "7 years      1770\n",
      "8 years      1481\n",
      "9 years      1257\n",
      "Name: emp_length, dtype: int64\n",
      "---->term\n",
      " 36 months    28187\n",
      " 60 months    10418\n",
      "Name: term, dtype: int64\n"
     ]
    }
   ],
   "source": [
    "# display first 5 categorical columns\n",
    "cols = ['home_ownership', 'verification_status', 'emp_length', 'term']\n",
    "\n",
    "for col in cols:\n",
    "    print( \"---->\"+col)\n",
    "    print( loans[col].value_counts() )"
   ]
  },
  {
   "cell_type": "code",
   "execution_count": 10,
   "metadata": {},
   "outputs": [
    {
     "name": "stdout",
     "output_type": "stream",
     "text": [
      "debt_consolidation    18252\n",
      "credit_card            4992\n",
      "other                  3821\n",
      "home_improvement       2875\n",
      "major_purchase         2110\n",
      "small_business         1780\n",
      "car                    1496\n",
      "wedding                 933\n",
      "medical                 668\n",
      "moving                  555\n",
      "house                   368\n",
      "vacation                349\n",
      "educational             311\n",
      "renewable_energy         95\n",
      "Name: purpose, dtype: int64\n"
     ]
    }
   ],
   "source": [
    "# check reasons for the loan\n",
    "cols = ['purpose']\n",
    "\n",
    "for col in cols:\n",
    "    print( loans[col].value_counts() )"
   ]
  },
  {
   "cell_type": "code",
   "execution_count": 11,
   "metadata": {},
   "outputs": [
    {
     "name": "stdout",
     "output_type": "stream",
     "text": [
      "uint8      24\n",
      "float64    18\n",
      "int64       2\n",
      "dtype: int64\n"
     ]
    }
   ],
   "source": [
    "# categorical columns\n",
    "#\n",
    "# replace employment length with numeric values\n",
    "mapping_dict = {\n",
    "    \"emp_length\": {\n",
    "        \"10+ years\": 10,\n",
    "        \"9 years\": 9,\n",
    "        \"8 years\": 8,\n",
    "        \"7 years\": 7,\n",
    "        \"6 years\": 6,\n",
    "        \"5 years\": 5,\n",
    "        \"4 years\": 4,\n",
    "        \"3 years\": 3,\n",
    "        \"2 years\": 2,\n",
    "        \"1 year\": 1,\n",
    "        \"< 1 year\": 0,\n",
    "        \"n/a\": 0\n",
    "    }\n",
    "}\n",
    "\n",
    "loans.replace( mapping_dict, inplace=True )\n",
    "\n",
    "# strip '%' from int_rate and revol_util and convert to float\n",
    "loans['int_rate'] = loans['int_rate'].str.rstrip('%').astype('float')\n",
    "loans['revol_util'] = loans['revol_util'].str.rstrip('%').astype('float')\n",
    "\n",
    "# create dummy variables for categorical columns\n",
    "cols = [\n",
    "    'home_ownership',\n",
    "    'verification_status',\n",
    "    'purpose',\n",
    "    'term'  \n",
    "]\n",
    "\n",
    "# returns a new Dataframe containing 1 column for each dummy variable\n",
    "dummy_df = pd.get_dummies(loans[cols])\n",
    "\n",
    "# use the concat method to add these dummy columns back to the original Dataframe:\n",
    "loans = pd.concat([loans, dummy_df], axis=1)\n",
    "\n",
    "# drop the original columns\n",
    "loans = loans.drop(cols, axis=1)\n",
    "\n",
    "# drop remaining 'object' type columns\n",
    "object_columns_df = loans.select_dtypes( include=['object'] )\n",
    "loans = loans.drop(object_columns_df, axis=1)\n",
    "\n",
    "# check data types in data frame:\n",
    "print( loans.dtypes.value_counts() )"
   ]
  },
  {
   "cell_type": "markdown",
   "metadata": {},
   "source": [
    "# Credit Risk Analysis with Machine Learning and Prediction"
   ]
  },
  {
   "cell_type": "code",
   "execution_count": 12,
   "metadata": {},
   "outputs": [
    {
     "name": "stdout",
     "output_type": "stream",
     "text": [
      "<class 'pandas.core.frame.DataFrame'>\n",
      "RangeIndex: 38605 entries, 0 to 38604\n",
      "Data columns (total 44 columns):\n",
      "loan_amnt                              38605 non-null float64\n",
      "int_rate                               38605 non-null float64\n",
      "installment                            38605 non-null float64\n",
      "emp_length                             38605 non-null int64\n",
      "annual_inc                             38605 non-null float64\n",
      "loan_status                            38605 non-null int64\n",
      "dti                                    38605 non-null float64\n",
      "delinq_2yrs                            38605 non-null float64\n",
      "inq_last_6mths                         38605 non-null float64\n",
      "open_acc                               38605 non-null float64\n",
      "pub_rec                                38605 non-null float64\n",
      "revol_bal                              38605 non-null float64\n",
      "revol_util                             38605 non-null float64\n",
      "total_acc                              38605 non-null float64\n",
      "collections_12_mths_ex_med             38605 non-null float64\n",
      "policy_code                            38605 non-null float64\n",
      "acc_now_delinq                         38605 non-null float64\n",
      "chargeoff_within_12_mths               38605 non-null float64\n",
      "delinq_amnt                            38605 non-null float64\n",
      "tax_liens                              38605 non-null float64\n",
      "home_ownership_MORTGAGE                38605 non-null uint8\n",
      "home_ownership_NONE                    38605 non-null uint8\n",
      "home_ownership_OTHER                   38605 non-null uint8\n",
      "home_ownership_OWN                     38605 non-null uint8\n",
      "home_ownership_RENT                    38605 non-null uint8\n",
      "verification_status_Not Verified       38605 non-null uint8\n",
      "verification_status_Source Verified    38605 non-null uint8\n",
      "verification_status_Verified           38605 non-null uint8\n",
      "purpose_car                            38605 non-null uint8\n",
      "purpose_credit_card                    38605 non-null uint8\n",
      "purpose_debt_consolidation             38605 non-null uint8\n",
      "purpose_educational                    38605 non-null uint8\n",
      "purpose_home_improvement               38605 non-null uint8\n",
      "purpose_house                          38605 non-null uint8\n",
      "purpose_major_purchase                 38605 non-null uint8\n",
      "purpose_medical                        38605 non-null uint8\n",
      "purpose_moving                         38605 non-null uint8\n",
      "purpose_other                          38605 non-null uint8\n",
      "purpose_renewable_energy               38605 non-null uint8\n",
      "purpose_small_business                 38605 non-null uint8\n",
      "purpose_vacation                       38605 non-null uint8\n",
      "purpose_wedding                        38605 non-null uint8\n",
      "term_ 36 months                        38605 non-null uint8\n",
      "term_ 60 months                        38605 non-null uint8\n",
      "dtypes: float64(18), int64(2), uint8(24)\n",
      "memory usage: 6.8 MB\n",
      "None\n"
     ]
    }
   ],
   "source": [
    "# print dataframe info\n",
    "print( loans.info() )"
   ]
  },
  {
   "cell_type": "markdown",
   "metadata": {},
   "source": [
    "### Baseline: Predict all loans will be paid off on time"
   ]
  },
  {
   "cell_type": "code",
   "execution_count": 13,
   "metadata": {},
   "outputs": [
    {
     "name": "stdout",
     "output_type": "stream",
     "text": [
      "False Positive rate:  1.0\n",
      "True  Positive rate:  1.0\n"
     ]
    }
   ],
   "source": [
    "# Predict that all loans will be paid off on time.\n",
    "predictions = pd.Series(numpy.ones(loans.shape[0]))\n",
    "\n",
    "tn = len( loans[ (predictions == 0) & (loans[\"loan_status\"] == 0) ] )\n",
    "tp = len( loans[ (predictions == 1) & (loans[\"loan_status\"] == 1) ] )\n",
    "fn = len( loans[ (predictions == 0) & (loans[\"loan_status\"] == 1) ] )\n",
    "fp = len( loans[ (predictions == 1) & (loans[\"loan_status\"] == 0) ] )\n",
    "\n",
    "# false positive rate\n",
    "fpr = fp / (fp + tn)\n",
    "\n",
    "# true positive rate\n",
    "tpr = tp / ( tp + fn )\n",
    "\n",
    "print( \"False Positive rate: \", fpr )\n",
    "print( \"True  Positive rate: \", tpr )"
   ]
  },
  {
   "cell_type": "markdown",
   "metadata": {},
   "source": [
    "### Logistic Regression"
   ]
  },
  {
   "cell_type": "code",
   "execution_count": 14,
   "metadata": {},
   "outputs": [
    {
     "name": "stdout",
     "output_type": "stream",
     "text": [
      "False Positive rate:  0.9990773205388448\n",
      "True  Positive rate:  0.9992466702826494\n"
     ]
    }
   ],
   "source": [
    "# logistic regression\n",
    "lr = LogisticRegression()\n",
    "\n",
    "features = loans.drop('loan_status', axis=1)\n",
    "target = loans['loan_status']\n",
    "\n",
    "lr.fit( features, target )\n",
    "\n",
    "predictions = lr.predict( features )\n",
    "\n",
    "# cross validation\n",
    "lr = LogisticRegression()\n",
    "kf = KFold(features.shape[0], random_state=1)\n",
    "\n",
    "predictions = cross_val_predict( lr, features, target, cv=kf )\n",
    "predictions = pd.Series( predictions )\n",
    "\n",
    "tn = len( loans[ (predictions == 0) & (loans[\"loan_status\"] == 0) ] )\n",
    "tp = len( loans[ (predictions == 1) & (loans[\"loan_status\"] == 1) ] )\n",
    "fn = len( loans[ (predictions == 0) & (loans[\"loan_status\"] == 1) ] )\n",
    "fp = len( loans[ (predictions == 1) & (loans[\"loan_status\"] == 0) ] )\n",
    "\n",
    "# false positive rate\n",
    "fpr = fp / (fp + tn)\n",
    "\n",
    "# true positive rate\n",
    "tpr = tp / ( tp + fn )\n",
    "\n",
    "print( \"False Positive rate: \", fpr )\n",
    "print( \"True  Positive rate: \", tpr )"
   ]
  },
  {
   "cell_type": "markdown",
   "metadata": {},
   "source": [
    "### Logistic Regression with Penalties"
   ]
  },
  {
   "cell_type": "code",
   "execution_count": 15,
   "metadata": {},
   "outputs": [
    {
     "name": "stdout",
     "output_type": "stream",
     "text": [
      "False Positive rate:  0.38881712493079906\n",
      "True  Positive rate:  0.6575965768697644\n"
     ]
    }
   ],
   "source": [
    "# logistic regression + penalizing the classifier\n",
    "lr = LogisticRegression( class_weight = 'balanced' )\n",
    "kf = KFold(features.shape[0], random_state=1)\n",
    "\n",
    "predictions = cross_val_predict( lr, features, target, cv=kf )\n",
    "predictions = pd.Series( predictions )\n",
    "\n",
    "tn = len( loans[ (predictions == 0) & (loans[\"loan_status\"] == 0) ] )\n",
    "tp = len( loans[ (predictions == 1) & (loans[\"loan_status\"] == 1) ] )\n",
    "fn = len( loans[ (predictions == 0) & (loans[\"loan_status\"] == 1) ] )\n",
    "fp = len( loans[ (predictions == 1) & (loans[\"loan_status\"] == 0) ] )\n",
    "\n",
    "# false positive rate\n",
    "fpr = fp / (fp + tn)\n",
    "\n",
    "# true positive rate\n",
    "tpr = tp / ( tp + fn )\n",
    "\n",
    "print( \"False Positive rate: \", fpr )\n",
    "print( \"True  Positive rate: \", tpr )"
   ]
  },
  {
   "cell_type": "markdown",
   "metadata": {},
   "source": [
    "### Logistic Regression with Manual Penalties"
   ]
  },
  {
   "cell_type": "code",
   "execution_count": 16,
   "metadata": {},
   "outputs": [
    {
     "name": "stdout",
     "output_type": "stream",
     "text": [
      "False Positive rate:  0.09134526665436428\n",
      "True  Positive rate:  0.2447718917615862\n"
     ]
    }
   ],
   "source": [
    "# logistic regression + manual penalties\n",
    "penalty = {\n",
    "    0: 10,\n",
    "    1: 1\n",
    "}\n",
    "\n",
    "lr = LogisticRegression( class_weight = penalty )\n",
    "kf = KFold(features.shape[0], random_state=1)\n",
    "\n",
    "predictions = cross_val_predict( lr, features, target, cv=kf )\n",
    "predictions = pd.Series( predictions )\n",
    "\n",
    "tn = len( loans[ (predictions == 0) & (loans[\"loan_status\"] == 0) ] )\n",
    "tp = len( loans[ (predictions == 1) & (loans[\"loan_status\"] == 1) ] )\n",
    "fn = len( loans[ (predictions == 0) & (loans[\"loan_status\"] == 1) ] )\n",
    "fp = len( loans[ (predictions == 1) & (loans[\"loan_status\"] == 0) ] )\n",
    "\n",
    "# false positive rate\n",
    "fpr = fp / (fp + tn)\n",
    "\n",
    "# true positive rate\n",
    "tpr = tp / ( tp + fn )\n",
    "\n",
    "print( \"False Positive rate: \", fpr )\n",
    "print( \"True  Positive rate: \", tpr )"
   ]
  },
  {
   "cell_type": "markdown",
   "metadata": {},
   "source": [
    "### Random Forests"
   ]
  },
  {
   "cell_type": "code",
   "execution_count": 17,
   "metadata": {},
   "outputs": [
    {
     "name": "stdout",
     "output_type": "stream",
     "text": [
      "False Positive rate:  0.9466691271452298\n",
      "True  Positive rate:  0.9773398421020912\n"
     ]
    }
   ],
   "source": [
    "# random forests + penalties\n",
    "penalty = {\n",
    "    0: 10,\n",
    "    1: 1\n",
    "}\n",
    "\n",
    "#lr = RandomForestClassifier(class_weight='balanced', random_state=1)\n",
    "lr = RandomForestClassifier(class_weight=penalty, random_state=1)\n",
    "kf = KFold(features.shape[0], random_state=1)\n",
    "\n",
    "predictions = cross_val_predict(lr, features, target, cv=kf)\n",
    "predictions = pd.Series(predictions)\n",
    "\n",
    "# False positives.\n",
    "fp_filter = (predictions == 1) & (loans[\"loan_status\"] == 0)\n",
    "fp = len(predictions[fp_filter])\n",
    "\n",
    "# True positives.\n",
    "tp_filter = (predictions == 1) & (loans[\"loan_status\"] == 1)\n",
    "tp = len(predictions[tp_filter])\n",
    "\n",
    "# False negatives.\n",
    "fn_filter = (predictions == 0) & (loans[\"loan_status\"] == 1)\n",
    "fn = len(predictions[fn_filter])\n",
    "\n",
    "# True negatives\n",
    "tn_filter = (predictions == 0) & (loans[\"loan_status\"] == 0)\n",
    "tn = len(predictions[tn_filter])\n",
    "\n",
    "# Rates\n",
    "tpr = tp / (tp + fn)\n",
    "fpr = fp / (fp + tn)\n",
    "\n",
    "print( \"False Positive rate: \", fpr )\n",
    "print( \"True  Positive rate: \", tpr )"
   ]
  },
  {
   "cell_type": "markdown",
   "metadata": {},
   "source": [
    "# Conclusion\n",
    "The Logistic Regression (with manual penalties) achieves 25% true positive rate at 9% false positive rate. This is the lowest false positive rate for all compared algorithms, so this seems like the best choice when wanting to minimize loss of money to loans that are not being paid back in full."
   ]
  }
 ],
 "metadata": {
  "kernelspec": {
   "display_name": "Python 3",
   "language": "python",
   "name": "python3"
  },
  "language_info": {
   "codemirror_mode": {
    "name": "ipython",
    "version": 3
   },
   "file_extension": ".py",
   "mimetype": "text/x-python",
   "name": "python",
   "nbconvert_exporter": "python",
   "pygments_lexer": "ipython3",
   "version": "3.6.5"
  }
 },
 "nbformat": 4,
 "nbformat_minor": 2
}
